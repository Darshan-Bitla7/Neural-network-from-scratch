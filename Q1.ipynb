{
  "cells": [
    {
      "cell_type": "markdown",
      "metadata": {
        "id": "Ah0_8QSAVsk9"
      },
      "source": [
        "**IE 643: Feed Forward Neural Network Demo**"
      ]
    },
    {
      "cell_type": "markdown",
      "metadata": {
        "id": "dYu-lRlVWwqw"
      },
      "source": [
        "# Importing the basic libaries -"
      ]
    },
    {
      "cell_type": "code",
      "execution_count": 1,
      "metadata": {
        "id": "QT3Suc9U_yq8",
        "scrolled": false
      },
      "outputs": [],
      "source": [
        "import numpy as np\n",
        "import matplotlib.pyplot as plt\n",
        "np.random.seed(1000) #to reproduce the same random numbers each time"
      ]
    },
    {
      "cell_type": "markdown",
      "metadata": {
        "id": "NeS7Di8nXQsl"
      },
      "source": [
        "# **Loading the Data-**"
      ]
    },
    {
      "cell_type": "markdown",
      "metadata": {
        "id": "HcTjBDMCXi8j"
      },
      "source": [
        "We will be using MNIST Dataset for the classification problem. MNIST dataset contains grayscale images of handwritten digits of the size 28*28. We will be building a neural network to classify these images.\n",
        "\n",
        "The MNIST database of handwritten digits, has a training set of 60,000 examples, and a test set of 10,000 examples. The digits have been size-normalized and centered in a fixed-size image.\n",
        "\n",
        "Source- http://yann.lecun.com/exdb/mnist/"
      ]
    },
    {
      "cell_type": "code",
      "execution_count": 2,
      "metadata": {
        "id": "suoT0icEE-U5",
        "colab": {
          "base_uri": "https://localhost:8080/"
        },
        "outputId": "3cc16fe3-5a0b-49d4-d0f3-349c343ed9bd"
      },
      "outputs": [
        {
          "output_type": "stream",
          "name": "stdout",
          "text": [
            "Downloading data from https://storage.googleapis.com/tensorflow/tf-keras-datasets/mnist.npz\n",
            "11490434/11490434 [==============================] - 0s 0us/step\n",
            "Train: X - (60000, 28, 28), y - (60000,)\n",
            "Test: X - (10000, 28, 28), y - (10000,)\n"
          ]
        }
      ],
      "source": [
        "from keras.datasets import mnist\n",
        "\n",
        "(X_train, Y_train), (X_test, Y_test) = mnist.load_data()\n",
        "print(f'Train: X - {X_train.shape}, y - {Y_train.shape}')\n",
        "print(f'Test: X - {X_test.shape}, y - {Y_test.shape}')"
      ]
    },
    {
      "cell_type": "markdown",
      "source": [
        "So the shape of X_train gives us the information that we have 60,000 images of size 28x28 pixels\n"
      ],
      "metadata": {
        "id": "JwYqNrMThMla"
      }
    },
    {
      "cell_type": "markdown",
      "metadata": {
        "id": "hitiUqp3AfPm"
      },
      "source": [
        "#### Displaying an image from the dataset"
      ]
    },
    {
      "cell_type": "code",
      "execution_count": 3,
      "metadata": {
        "id": "Ezn1RRvSSO6n",
        "colab": {
          "base_uri": "https://localhost:8080/"
        },
        "outputId": "50d6be6a-c333-421c-e563-3ab6b229d760"
      },
      "outputs": [
        {
          "output_type": "stream",
          "name": "stdout",
          "text": [
            "[0 1 2 3 4 5 6 7 8 9]\n"
          ]
        }
      ],
      "source": [
        "digits = np.unique(Y_train)\n",
        "print(digits)"
      ]
    },
    {
      "cell_type": "code",
      "execution_count": 4,
      "metadata": {
        "id": "zwkEglRBMsbr",
        "colab": {
          "base_uri": "https://localhost:8080/"
        },
        "outputId": "ea42d6fa-15e3-447f-c6d1-13de0bcea91b"
      },
      "outputs": [
        {
          "output_type": "stream",
          "name": "stdout",
          "text": [
            "[[   0 5923]\n",
            " [   1 6742]\n",
            " [   2 5958]\n",
            " [   3 6131]\n",
            " [   4 5842]\n",
            " [   5 5421]\n",
            " [   6 5918]\n",
            " [   7 6265]\n",
            " [   8 5851]\n",
            " [   9 5949]]\n"
          ]
        }
      ],
      "source": [
        "#counts for all unique class labels\n",
        "unique, counts = np.unique(Y_train, return_counts=True)\n",
        "print(np.asarray((unique, counts)).T)"
      ]
    },
    {
      "cell_type": "markdown",
      "metadata": {
        "id": "8UZxTtqa6BAO"
      },
      "source": [
        "# **Pre-processing:**"
      ]
    },
    {
      "cell_type": "markdown",
      "metadata": {
        "id": "enfY6Lj46G6l"
      },
      "source": [
        "**Flattening the input values-** Because we are using a simple FFNN, it would be better to convert all the input images of size ${28*28}$ to a size of ${784*1}$ i.e to convert each input from a 2D array to a 1D array."
      ]
    },
    {
      "cell_type": "code",
      "execution_count": 5,
      "metadata": {
        "id": "0N84EzhtH__R",
        "colab": {
          "base_uri": "https://localhost:8080/"
        },
        "outputId": "da3c75f6-8874-4bd6-fdcc-9a5171f17673"
      },
      "outputs": [
        {
          "output_type": "stream",
          "name": "stdout",
          "text": [
            "Shapes - Train: (60000, 784), Test: (10000, 784)\n"
          ]
        }
      ],
      "source": [
        "# flattening the input\n",
        "\n",
        "X_train_flattened = X_train.reshape((X_train.shape[0], -1))\n",
        "X_test_flattened = X_test.reshape((X_test.shape[0], -1))\n",
        "\n",
        "print(f\"Shapes - Train: {X_train_flattened.shape}, Test: {X_test_flattened.shape}\")"
      ]
    },
    {
      "cell_type": "markdown",
      "metadata": {
        "id": "rTqzd3CfJ-Pb"
      },
      "source": [
        "**Normalizing input values:**\n",
        "\n",
        "We often need to normalize the input values into a convinient range. Let us see what is the current range of pixel values:"
      ]
    },
    {
      "cell_type": "code",
      "execution_count": 6,
      "metadata": {
        "id": "nXobob1BIiyK",
        "colab": {
          "base_uri": "https://localhost:8080/"
        },
        "outputId": "6b14a7a9-a2ab-40eb-c2c2-eca7cc04a27f"
      },
      "outputs": [
        {
          "output_type": "stream",
          "name": "stdout",
          "text": [
            "Minimum pixel value = 0\n",
            "Maximum pixel value = 255\n"
          ]
        }
      ],
      "source": [
        "print(\"Minimum pixel value =\", X_train_flattened.min())\n",
        "print(\"Maximum pixel value =\", X_train_flattened.max())"
      ]
    },
    {
      "cell_type": "markdown",
      "metadata": {
        "id": "3-VVt47UCtDD"
      },
      "source": [
        "As the pixel values lies between the range 0 and 255, we want to normalize the input such that values of the pixels lies in the range (0,1). So, to normalize, we will divide each input values by the maximum pixel value which in this case is 255."
      ]
    },
    {
      "cell_type": "markdown",
      "metadata": {
        "id": "1J2Z_A8cSYFl"
      },
      "source": [
        "**Normalizing the dataset:**"
      ]
    },
    {
      "cell_type": "code",
      "execution_count": 7,
      "metadata": {
        "id": "Eav9JO6PREKz",
        "colab": {
          "base_uri": "https://localhost:8080/"
        },
        "outputId": "2a914c32-3444-4101-c7f0-18a6d4a69f39"
      },
      "outputs": [
        {
          "output_type": "stream",
          "name": "stdout",
          "text": [
            "Minimum pixel value = 0.0\n",
            "Maximum pixel value = 1.0\n"
          ]
        }
      ],
      "source": [
        "X_normalized_train = np.round(X_train_flattened/X_train_flattened.max(), 3)\n",
        "X_normalized_test = np.round(X_test_flattened/X_test_flattened.max(), 3)\n",
        "#print the new values\n",
        "print(\"Minimum pixel value =\", X_normalized_train.min())\n",
        "print(\"Maximum pixel value =\", X_normalized_train.max())"
      ]
    },
    {
      "cell_type": "markdown",
      "metadata": {
        "id": "rIw-T2dcF8ZC"
      },
      "source": [
        "So, we can see that normalizing does not effect the nature of data. So, we will use this normalized and flattened layer as the input to our neural network."
      ]
    },
    {
      "cell_type": "markdown",
      "metadata": {
        "id": "rmOvxsaUGh1u"
      },
      "source": [
        "# **Creating datasets for binary and multiclass classification-**"
      ]
    },
    {
      "cell_type": "markdown",
      "metadata": {
        "id": "1YJkfylcGsqG"
      },
      "source": [
        "## **Binary Classification problem-**\n",
        "\n",
        "MNIST dataset has 10 different target classes, each representing one of the digits from 0-9. Let's consider digits '**0**' and '**1**' for binary classification. We will take only these inputs from the original dataset-\n",
        "\n",
        "**Creating the dataset-**"
      ]
    },
    {
      "cell_type": "code",
      "execution_count": 8,
      "metadata": {
        "id": "7111D1S4VpGG",
        "colab": {
          "base_uri": "https://localhost:8080/"
        },
        "outputId": "8d03335a-4c5e-47e3-edfa-7327a4d5ab0a"
      },
      "outputs": [
        {
          "output_type": "stream",
          "name": "stdout",
          "text": [
            "Trainset shapes - X: (12665, 784), Y: (12665,)\n",
            "Testset shapes - X: (2115, 784), Y: (2115,)\n",
            "\n",
            "Train statistics - 0: 5923, 1: 6742\n",
            "Test statistics - 0: 980, 1: 1135\n"
          ]
        }
      ],
      "source": [
        "#for train data\n",
        "train_idx = np.where((Y_train==0) | (Y_train==1))# Here we get the index of values 0 and 1\n",
        "X_train_bin = X_normalized_train[train_idx]\n",
        "Y_train_bin = Y_train[train_idx]\n",
        "\n",
        "#for test data\n",
        "test_idx = np.where((Y_test==0) | (Y_test==1))\n",
        "X_test_bin = X_normalized_test[test_idx]\n",
        "Y_test_bin = Y_test[test_idx]\n",
        "\n",
        "print(f'Trainset shapes - X: {X_train_bin.shape}, Y: {Y_train_bin.shape}')\n",
        "print(f'Testset shapes - X: {X_test_bin.shape}, Y: {Y_test_bin.shape}')\n",
        "\n",
        "print(f'\\nTrain statistics - 0: {(Y_train_bin==0).sum()}, 1: {(Y_train_bin==1).sum()}')\n",
        "print(f'Test statistics - 0: {(Y_test_bin==0).sum()}, 1: {(Y_test_bin==1).sum()}')\n"
      ]
    },
    {
      "cell_type": "markdown",
      "metadata": {
        "id": "wIBGzieINITS"
      },
      "source": [
        "We now have only 0's and 1's in the newly created subset of the dataset. As we can see that count of 0's and 1's is quite even. So, the dataset is quite evenly balanced."
      ]
    },
    {
      "cell_type": "markdown",
      "metadata": {
        "id": "U1A-BUpkQmT8"
      },
      "source": [
        "**Splitting the training dataset-**"
      ]
    },
    {
      "cell_type": "markdown",
      "metadata": {
        "id": "jplpnBWWR9Ml"
      },
      "source": [
        "Often it is observed that training a model for a large number of epochs leads to the model overfitting very much to the training data set. To tackle this issue, we need a validation dataset to keep track of the 'validation performance'. So, we will now split the current training dataset (of 11344 instances) into a training set and validation set."
      ]
    },
    {
      "cell_type": "code",
      "execution_count": 9,
      "metadata": {
        "id": "hvoYIMvKX6sd"
      },
      "outputs": [],
      "source": [
        "from sklearn.model_selection import train_test_split"
      ]
    },
    {
      "cell_type": "markdown",
      "metadata": {
        "id": "W9JUk9eYTG8k"
      },
      "source": [
        "\n",
        "\n",
        "\n",
        "\n",
        "\n",
        "\n",
        "\n",
        "\n",
        "\n",
        "\n",
        "\n",
        "\n",
        "\n",
        "\n",
        "\n",
        "\n",
        "\n",
        "\n",
        "We can use this library to split our data.\n",
        "\n",
        "In general, a split of 90-10, 80-20, 67-33 etc. is used. You can choose your own value as it is always a tradeoff.\n",
        "\n",
        "We will go with 80-20 split."
      ]
    },
    {
      "cell_type": "code",
      "execution_count": 10,
      "metadata": {
        "id": "V9slDYMrbh53"
      },
      "outputs": [],
      "source": [
        "X_train_bin, X_val_bin, Y_train_bin, Y_val_bin = train_test_split(X_train_bin, Y_train_bin, test_size=0.2, random_state = 28)"
      ]
    },
    {
      "cell_type": "code",
      "execution_count": 11,
      "metadata": {
        "id": "y0mWgtbYcmug",
        "colab": {
          "base_uri": "https://localhost:8080/"
        },
        "outputId": "5059fa1a-b936-4d30-ca23-7cd7599257b3"
      },
      "outputs": [
        {
          "output_type": "stream",
          "name": "stdout",
          "text": [
            "Instances in new train-set: 10132\n",
            "Instances in val-set: 2533\n",
            "\n",
            "Count of 0s and 1s in train-set: 4745 5387\n",
            "Count of 0s and 1s in val-set: 1178 1355\n"
          ]
        }
      ],
      "source": [
        "print(\"Instances in new train-set:\", len(Y_train_bin))\n",
        "print(\"Instances in val-set:\", len(Y_val_bin))\n",
        "print(\"\\nCount of 0s and 1s in train-set:\", (Y_train_bin==0).sum(), (Y_train_bin==1).sum())\n",
        "print(\"Count of 0s and 1s in val-set:\", (Y_val_bin==0).sum(), (Y_val_bin==1).sum())"
      ]
    },
    {
      "cell_type": "code",
      "execution_count": 12,
      "metadata": {
        "id": "PlFCGFISpDmD",
        "colab": {
          "base_uri": "https://localhost:8080/"
        },
        "outputId": "9ec1abd2-70d4-44ff-8cdb-f8607b171e09"
      },
      "outputs": [
        {
          "output_type": "stream",
          "name": "stdout",
          "text": [
            "Shapes - ((784, 10132), (784, 2533), (784, 2115))\n"
          ]
        }
      ],
      "source": [
        "# Transpose feature matrices as per our model requirement\n",
        "\n",
        "X_train_bin, X_val_bin, X_test_bin = X_train_bin.T, X_val_bin.T, X_test_bin.T\n",
        "print(f'Shapes - {X_train_bin.shape, X_val_bin.shape, X_test_bin.shape}')"
      ]
    },
    {
      "cell_type": "markdown",
      "metadata": {
        "id": "b6Ag1ws0Im_N"
      },
      "source": [
        "# **Building the Neural Net class:**"
      ]
    },
    {
      "cell_type": "code",
      "execution_count": 54,
      "metadata": {
        "id": "aNupsKfm_yq-",
        "scrolled": false
      },
      "outputs": [],
      "source": [
        "class Neural_Network():\n",
        "    def __init__(self, neurons, Activations, initialization='randn'):\n",
        "        \"\"\"Define the NN design parameters\n",
        "        Args:\n",
        "            neurons (int array): list of number of neurons in each layer\n",
        "            Activations (str array): list of activations to be used for hidden and output layers\n",
        "            initialization (str, optional): Choose weight initialization from\n",
        "             uniform or normal distribution. Defaults to 'randn'.\n",
        "        \"\"\"\n",
        "\n",
        "        self.inputSize = neurons[0] # Number of neurons in input layer\n",
        "        self.outputSize = neurons[-1] # Number of neurons in output layer\n",
        "        self.layers = len(neurons)\n",
        "        self.weights = [] # weights for each layer\n",
        "        self.biases = [] # biases in each layer\n",
        "        self.layer_activations = [] # activations for each layer\n",
        "\n",
        "        if initialization == 'rand':\n",
        "            self.initializer = np.random.rand\n",
        "        elif initialization == 'randn':\n",
        "            self.initializer = np.random.randn\n",
        "        else:\n",
        "           raise ValueError(\"initialization must be 'rand' or 'randn' or 'he' or 'xavier'\")\n",
        "        for i in range(len(neurons)-1):\n",
        "            self.weights.append(self.initializer(neurons[i+1],neurons[i])) # weight matrix between layer i and layer i+1\n",
        "            self.biases.append(self.initializer(neurons[i+1],1))\n",
        "            self.layer_activations.append(Activations[i]) # activations for each layer\n",
        "\n",
        "\n",
        "    def sigmoid(self, z):\n",
        "        \"\"\"returns result of the sigmoid activation function on input z.\"\"\"\n",
        "        return 1 / (1 + np.exp(-z))\n",
        "\n",
        "    def sigmoidPrime(self,z):\n",
        "        \"\"\"returns derivative of sigmoid activation function applied on input z.\"\"\"\n",
        "        return self.sigmoid(z) * (1 - self.sigmoid(z))\n",
        "\n",
        "    def sigma_tanh(self,z):\n",
        "      return (np.exp(z)-np.exp(-z))/(np.exp(z)+np.exp(-z))\n",
        "\n",
        "    def sigma_tanhPrime(self,z):\n",
        "      return 4/(np.exp(z)+np.exp(-z))**2\n",
        "\n",
        "    def SReLU(self,z):\n",
        "      return z*self.sigma_tanh(np.log(np.exp(z)+1))\n",
        "\n",
        "    def SReLUPrime(self,z):\n",
        "      return z*((np.exp(z)+1)**2-1)/((np.exp(z)+1)**2+1)\n",
        "\n",
        "    def SSIG(self,z):\n",
        "      return 5*z/(1+abs(5*z))\n",
        "\n",
        "    def SSIGPrime(self,z):\n",
        "      return np.where(z > 0, 5 / (1 + 5 * z) ** 2, 5 / (1 - 5 * z) ** 2)\n",
        "\n",
        "    def linear(self, z):\n",
        "        \"\"\"returns result of the linear activation function on input z.\"\"\"\n",
        "        return z\n",
        "\n",
        "    def linearPrime(self, z):\n",
        "        \"\"\"returns derivative of linear activation function applied on input z.\"\"\"\n",
        "        return 1\n",
        "\n",
        "    def lossSE(self, predicted, actual):\n",
        "        \"\"\"Implementation of Squared-error loss function.\"\"\"\n",
        "        return np.mean(0.5*(predicted-actual)**2)\n",
        "\n",
        "    def lossCE(self, predicted, actual):\n",
        "        \"\"\"Implementation of Cross-Entropy loss function.\"\"\"\n",
        "        (-1 / actual.shape[1]) * np.sum(np.multiply(actual, np.log(predicted)))\n",
        "\n",
        "\n",
        "\n",
        "    def forward(self, x):\n",
        "        \"\"\"Defines forward pass of the NN\n",
        "\n",
        "        Args:\n",
        "            x (array): input of size self.inputSize\n",
        "\n",
        "        Returns:\n",
        "            a (array): output of the forward pass\n",
        "            layer_dot_prod_z (list): layerwise intermediate outputs\n",
        "            layer_activations_a (list): layerwise activations\n",
        "        \"\"\"\n",
        "\n",
        "        layer_activations_a = [x] # store the outputs of activation\n",
        "        a=x  ## storing input as activation of zero-th layer\n",
        "        layer_dot_prod_z = []\n",
        "        for i, param in enumerate(zip(self.biases, self.weights)):\n",
        "            b, w = param[0], param[1]\n",
        "\n",
        "            z = np.dot(w, a) + b\n",
        "            # print(z.shape)\n",
        "            if self.layer_activations[i].lower()=='sigmoid':\n",
        "                a = self.sigmoid(z)\n",
        "            elif self.layer_activations[i].lower()=='srelu':\n",
        "                a = self.SReLU(z)\n",
        "            elif self.layer_activations[i].lower()=='ssig':\n",
        "                a = self.SSIG(z)\n",
        "            elif self.layer_activations[i].lower()=='linear':\n",
        "                a=self.linear(z)\n",
        "\n",
        "            layer_dot_prod_z.append(z)\n",
        "            layer_activations_a.append(a)\n",
        "        return a, layer_dot_prod_z, layer_activations_a\n",
        "\n",
        "    def backward(self, x, y, zs, activations):\n",
        "        \"\"\"backward pass to calculate gradient of loss w.r.t. NN parameters\n",
        "\n",
        "        Args:\n",
        "            x (array): input\n",
        "            y (array): ouputs from forward pass\n",
        "            zs (list): layerwise intermediate outputs from forward pass\n",
        "            activations (list): layerwise activations from forward pass\n",
        "\n",
        "        Returns:\n",
        "            [tuple]: gradients with respect to bias and weight parameters respectively\n",
        "        \"\"\"\n",
        "\n",
        "        grad_b = [np.zeros(b.shape) for b in self.biases]\n",
        "        grad_w = [np.zeros(w.shape) for w in self.weights]\n",
        "\n",
        "        n = zs[-1].shape[1]\n",
        "\n",
        "        for t in range(1, len(activations)):\n",
        "            if t == 1:\n",
        "                delta = (activations[-t] - y)\n",
        "            else:\n",
        "                delta = np.dot(self.weights[-t + 1].T, delta)\n",
        "\n",
        "            if self.layer_activations[-t].lower() == 'sigmoid':\n",
        "                delta *= self.sigmoidPrime(zs[-t])\n",
        "            elif self.layer_activations[-t].lower() == 'srelu':\n",
        "                delta *= self.SReLUPrime(zs[-t])\n",
        "            elif self.layer_activations[-t].lower() == 'ssig':\n",
        "                delta *= self.SSIGPrime(zs[-t])\n",
        "            elif self.layer_activations[-t].lower() == 'linear':\n",
        "                delta *= self.linearPrime(zs[-t])\n",
        "\n",
        "            grad_b[-t] = np.sum(delta, axis=1, keepdims=True) / n\n",
        "            grad_w[-t] = np.dot(delta, activations[-t - 1].T) / n\n",
        "\n",
        "\n",
        "        return (grad_b, grad_w)\n",
        "\n",
        "    def update_parameters(self, grads, lr):\n",
        "        \"\"\"update the NN parameters using the gradients\n",
        "\n",
        "        Args:\n",
        "            grads (list): gradients obtained from backward pass\n",
        "            lr (float): learning rate of NN\n",
        "        \"\"\"\n",
        "\n",
        "        grad_b, grad_w = grads[0], grads[1]\n",
        "\n",
        "        for i in range(len(self.weights)):\n",
        "            self.weights[i] -= lr * grad_w[i]\n",
        "            self.biases[i] -= lr * grad_b[i]\n",
        "\n",
        "        # Inside your training loop, after computing gradients:\n",
        "        # grad_magnitude = [np.linalg.norm(grad_w) for grad_w in grads[1]]  # Gradients for weights\n",
        "        # print(\"Gradient Magnitude:\", grad_magnitude)\n",
        "\n",
        "        # Inside your training loop, after computing gradients:\n",
        "        # grad_magnitude = [np.linalg.norm(grad_w) for grad_w in grads[1]]  # Gradients for weights\n",
        "        # print(\"Gradient Magnitude (First 10):\", grad_magnitude[:10])  # Print the first 10 gradient magnitudes\n",
        "\n",
        "        # # Check for NaN values in the gradients\n",
        "        # nan_indices = [i for i, norm in enumerate(grad_magnitude) if np.isnan(norm)]\n",
        "        # if nan_indices:\n",
        "        #     max_nan_to_display = 10  # Maximum number of NaN values to display\n",
        "        #     print(f\"NaN values detected in gradient magnitudes at indices: {nan_indices[:max_nan_to_display]}\")  # Print the first 10 NaN indices\n",
        "\n",
        "\n",
        "        # Inside your training loop, after computing gradients:\n",
        "        # grad_magnitude = [np.linalg.norm(grad_w) for grad_w in grads[1]]  # Gradients for weights\n",
        "        # print(\"Gradient Magnitude (First 10):\", grad_magnitude[:10])  # Print the first 10 gradient magnitudes\n",
        "\n",
        "        # Check for NaN values in the gradients\n",
        "        # nan_indices = [i for i, norm in enumerate(grad_magnitude) if np.isnan(norm)]\n",
        "        # if nan_indices:\n",
        "        #     print(f\"NaN values detected in gradient magnitudes at indices: {nan_indices[:10]}\")  # Print the first 10 NaN indices\n",
        "\n",
        "\n",
        "        # threshold = 1e6  # Set a suitable threshold\n",
        "        # for i, grad_w in enumerate(grads[1]):\n",
        "        #   if np.linalg.norm(grad_w) > threshold:\n",
        "        #       print(f\"Warning: Exploding Gradient Detected in Layer {i}!\")\n",
        "\n",
        "\n",
        "\n",
        "    def error(self, X, Y, errors):\n",
        "        \"\"\"Appends loss to error list\"\"\"\n",
        "        y = np.squeeze(self.forward(X)[0])\n",
        "        errors.append(self.loss(y, Y))\n",
        "\n",
        "    def copy_params(self):\n",
        "        \"\"\"Returns a copy of current NN parameters\"\"\"\n",
        "        weights = [w.copy() for w in self.weights]\n",
        "        biases = [b.copy() for b in self.biases]\n",
        "        return (weights, biases)\n",
        "\n",
        "    def train(self, X, Y, lr = 1e-3, max_epochs = 1000, patience=5, batch_size = None,\n",
        "              n_classes=10, onehotencoded=False, loss_func='SE', Xval=None, Yval=None, verbose=True):\n",
        "        \"\"\"Function for training our Neural Network\n",
        "\n",
        "        Args:\n",
        "            X (ndarray): feature matrix of training data,\n",
        "             Shape: (n,m) where n is no. of features and m is no. of samples.\n",
        "            Y (ndarray): ground truth of training data, NOT one-hot-encoded. Shape: (1,m).\n",
        "            lr (float or function, optional): constant learning rate or scheduler function.\n",
        "             Defaults to 1e-3 constant lr.\n",
        "            max_epochs (int, optional): epoch cap for training. Defaults to 1000.\n",
        "            patience (int, optional): patience parameter for early stopping. Defaults to 5.\n",
        "            batch_size (int, optional): mini-batch size. Defaults to full-batch GD if not provided.\n",
        "            n_classes (int, optional): no. of classes for multi-class classification required if\n",
        "            one-hot encoding is set to True. Defaults to 10.\n",
        "            onehotencoded (bool, optional): Defaults to False.\n",
        "            loss_func (str, optional): Choose from 'SE' and 'CE' loss functions. Defaults to 'SE'.\n",
        "            Xval (ndarray, optional): Validation data feature matrix. Defaults to None.\n",
        "            Yval (ndarray, optional): Validation data ground truth. Defaults to None.\n",
        "            verbose (bool, optional): If True, displays logs and progress of training. Defaults to True.\n",
        "\n",
        "        Returns:\n",
        "            [list/tuple]: lists of train-set and validation-set losses seen over the traning process.\n",
        "        \"\"\"\n",
        "\n",
        "        if onehotencoded:\n",
        "            # a method for creating one hot encoded labels\n",
        "            def onehotencoding(Y, n):\n",
        "                # one-hot encoding of class i is just the ith column of the identity\n",
        "                # matrix of size n where n is the total number of classes. so below\n",
        "                # code uses Y (a 1d array) for indexing into the identity matrix.\n",
        "\n",
        "                m = Y.shape[1]\n",
        "                onehot_encoded = np.zeros((n, m))\n",
        "                for i in range(m):\n",
        "                    onehot_encoded[Y[0, i], i] = 1\n",
        "                return onehot_encoded\n",
        "                # raise NotImplementedError\n",
        "\n",
        "\n",
        "            Y = onehotencoding(Y, n_classes)\n",
        "            if Yval is not None:\n",
        "                Yval = onehotencoding(Yval, n_classes)\n",
        "\n",
        "        # Below code ensures that Y is 2-dimensional even when one-hot encoding is not\n",
        "        # performed, so our same code works for training NN for both tasks.\n",
        "        Y = np.expand_dims(Y,0) if len(Y.shape) == 1 else Y\n",
        "        Yval = np.expand_dims(Yval,0) if (Yval is not None and len(Yval.shape) == 1) else Yval\n",
        "\n",
        "        if loss_func == 'SE':\n",
        "            self.loss = self.lossSE\n",
        "        elif loss_func == 'CE':\n",
        "            self.loss = self.lossCE\n",
        "\n",
        "        train_errors=[]\n",
        "        if Xval is not None:\n",
        "            val_errors=[]\n",
        "        i, j, v = 0, 0, np.inf     ## i -> epoch, j->patience, v ->best loss\n",
        "        best_params = self.copy_params()\n",
        "\n",
        "        if batch_size is not None:\n",
        "            if batch_size > len(X[0]):\n",
        "                raise ValueError(\"invalid mini-batch size. Must be smaller than dataset length\")\n",
        "        else:   ## if batch_size is not given\n",
        "            batch_size = len(X[0])\n",
        "\n",
        "        #LR control function\n",
        "\n",
        "        if isinstance(lr, (float, int)):# constant Ir arg is passed to train get_ir lambda x: 1r # we return a function object which returns the same ir at every epoc elif callable(lr): # function in arg is passed to train\n",
        "           get_lr =lambda X: lr # the function is then used to get in for a particular epoch else: raise ValueError('param Ir can only be a number or a scheduler function\")\n",
        "        elif callable(lr):\n",
        "          get_lr =lr\n",
        "        else:\n",
        "          raise ValueError('param lr can only be a number or a scheduler function')\n",
        "\n",
        "\n",
        "        v = float('inf')\n",
        "        while j < patience:\n",
        "\n",
        "            # Shuffle Dataset\n",
        "            idx = np.arange(len(X[0]))\n",
        "            np.random.shuffle(idx)\n",
        "            X1 = np.take(X,idx,axis=-1)\n",
        "            Y1 = np.take(Y,idx,axis=-1)\n",
        "\n",
        "            for q in range(0,len(X1[0]),batch_size):\n",
        "                start, end = q, min(len(X1[0]), q+batch_size)\n",
        "                train_x = X1[:, start:end]\n",
        "                train_y = Y1[:,start:end]\n",
        "                out, dot_prod_z, activations_a = self.forward(train_x)\n",
        "                grads = self.backward(train_x, train_y, dot_prod_z, activations_a) # find the gradients using backward pass\n",
        "\n",
        "\n",
        "\n",
        "                self.update_parameters(grads, lr)\n",
        "            i += 1 # increment epoch count\n",
        "\n",
        "            self.error(X, Y, train_errors)   ### appending the loss to train_errors\n",
        "            if Xval is not None and Yval is not None:\n",
        "                self.error(Xval, Yval, val_errors)    ## appending the val_loss to errors\n",
        "\n",
        "                if val_errors[-1] < v:\n",
        "                    j = 0 # reset patience counter\n",
        "                    v = val_errors[-1] # update best loss\n",
        "                    best_params = self.copy_params() # save params\n",
        "                else:\n",
        "                    j += 1 # increment patience counter\n",
        "\n",
        "            if verbose and i%5 == 0:\n",
        "                log = f\"Epoch {i}..............Loss on train = {train_errors[-1]}\"\n",
        "                if Xval is not None:\n",
        "                    log += f\", Loss on val = {val_errors[-1]}\"\n",
        "                print(log)\n",
        "\n",
        "            if i >= max_epochs:\n",
        "                break # stop if epoch threshold crossed\n",
        "\n",
        "        if Xval is not None:\n",
        "            if i >= max_epochs and verbose:\n",
        "                print(\"Reached Epoch Cap without convergence....Terminating\")\n",
        "            elif verbose:\n",
        "                print(\"Early Stopping .............. Returning best weights\")\n",
        "\n",
        "            self.weights, self.biases = best_params # reset to best params\n",
        "\n",
        "        if verbose:\n",
        "            x = np.arange(1, len(train_errors)+1)\n",
        "            plt.plot(x, train_errors, label=\"Loss on Train\")\n",
        "            if Xval is not None:\n",
        "                plt.plot(x, val_errors, label=\"Loss on Val\")\n",
        "            plt.legend()\n",
        "            plt.title(f\"{loss_func} - Learning Rate = {lr}\")\n",
        "            plt.xlabel(\"Epoch\")\n",
        "            plt.ylabel(\"Loss\")\n",
        "            plt.show()\n",
        "        if Xval is not None:\n",
        "            return (train_errors, val_errors)\n",
        "        return train_errors\n",
        "\n",
        "    def predict(self, x):\n",
        "      out, dot_prod_z, activations_a = self.forward(x)\n",
        "      return out > 0.5\n"
      ]
    },
    {
      "cell_type": "markdown",
      "metadata": {
        "id": "6m9qBqPrifRp"
      },
      "source": [
        "**Creating a MLP (Feed forward NN) model instance for our Binary classification task :**\n",
        "\n",
        "Let's now create a simple feed-forward neural network.\n",
        "\n",
        "* Number of input neurons = 784.\n",
        "* Number of output layer neurons = 1.\n",
        "\n",
        "The number of hidden layers and number of neurons in each hidden layer can be decided by the user."
      ]
    },
    {
      "cell_type": "code",
      "execution_count": 42,
      "metadata": {
        "id": "5v8Fxtw0-Ca5"
      },
      "outputs": [],
      "source": [
        "#D_in is input dimension\n",
        "#H1 is dimension of first hidden layer\n",
        "#H2 is dimension of second hidden layer\n",
        "#D_out is output dimension.\n",
        "\n",
        "D_in, H1, H2, D_out = 784, 200, 100, 1 #You can add more layers or more outputs if you wish.\n",
        "\n",
        "neurons = [D_in, H1, H2, D_out] # list of number of neurons in the layers sequentially.\n",
        "activation_functions = ['SRELU','SRELU','sigmoid'] # activations in each layer (Note: the input layer does not have any activation)\n",
        "nn_bin = Neural_Network(neurons, activation_functions) # There we go, creating our neural network."
      ]
    },
    {
      "cell_type": "markdown",
      "metadata": {
        "id": "y-BMNzeRs3rC"
      },
      "source": [
        "## Training the model:"
      ]
    },
    {
      "cell_type": "code",
      "execution_count": 43,
      "metadata": {
        "id": "6_XFSOBWiep9",
        "colab": {
          "base_uri": "https://localhost:8080/",
          "height": 615
        },
        "outputId": "3ee98537-03cc-4e03-91e2-506a567278e8"
      },
      "outputs": [
        {
          "output_type": "stream",
          "name": "stderr",
          "text": [
            "<ipython-input-41-08141031f944>:32: RuntimeWarning: overflow encountered in exp\n",
            "  return 1 / (1 + np.exp(-z))\n",
            "<ipython-input-41-08141031f944>:48: RuntimeWarning: overflow encountered in square\n",
            "  return z*((np.exp(z)+1)**2-1)/((np.exp(z)+1)**2+1)\n",
            "<ipython-input-41-08141031f944>:48: RuntimeWarning: invalid value encountered in divide\n",
            "  return z*((np.exp(z)+1)**2-1)/((np.exp(z)+1)**2+1)\n"
          ]
        },
        {
          "output_type": "stream",
          "name": "stdout",
          "text": [
            "Epoch 5..............Loss on train = nan, Loss on val = nan\n",
            "Early Stopping .............. Returning best weights\n"
          ]
        },
        {
          "output_type": "display_data",
          "data": {
            "text/plain": [
              "<Figure size 640x480 with 1 Axes>"
            ],
            "image/png": "[encoded data removed]"
          },
          "metadata": {}
        }
      ],
      "source": [
        "losses = nn_bin.train(X_train_bin, Y_train_bin, batch_size=10, lr=1e-2, max_epochs=100, Xval = X_val_bin, Yval = Y_val_bin, verbose= True)"
      ]
    },
    {
      "cell_type": "markdown",
      "source": [
        "From the **overflow error** we can conclude that the gradient is **exploding**. Monitoring the gradient values, we can confirm that the values were reaching very high numbers and potentially infinity thus we were getting NaN. The gradient values have not been displayed because there were very a lot of values to display so the display was getting truncated to the last 5000 lines which were all NaN values but manual inspection of the initial values showed very high numbers. The e^z term in the SReLU activation would be causing this behaviour.\n"
      ],
      "metadata": {
        "id": "yeejaezPKzJs"
      }
    },
    {
      "cell_type": "markdown",
      "metadata": {
        "id": "eBYaTMAjsx17"
      },
      "source": [
        "##Testing the model with SReLU activation:\n",
        "Now it's the time to test our model:"
      ]
    },
    {
      "cell_type": "code",
      "execution_count": 20,
      "metadata": {
        "id": "ADCumtiUiIdY",
        "colab": {
          "base_uri": "https://localhost:8080/"
        },
        "outputId": "66f4ee68-3f28-408b-90d1-299b7de793bc"
      },
      "outputs": [
        {
          "output_type": "stream",
          "name": "stdout",
          "text": [
            "First 10 outputs    : [1 0 1 0 0 1 0 0 1 1]\n",
            "First 10 predictions: [[ True False  True False False False False False False False]]\n"
          ]
        },
        {
          "output_type": "stream",
          "name": "stderr",
          "text": [
            "<ipython-input-13-b92d47e5e26a>:32: RuntimeWarning: overflow encountered in exp\n",
            "  return 1 / (1 + np.exp(-z))\n"
          ]
        }
      ],
      "source": [
        "print(\"First 10 outputs    :\", Y_test_bin[:10])\n",
        "preds = nn_bin.predict(X_test_bin[:,:10])\n",
        "print(\"First 10 predictions:\", preds)"
      ]
    },
    {
      "cell_type": "markdown",
      "metadata": {
        "id": "mpmq-iTVukjd"
      },
      "source": [
        "Now it's time to check the accuracy of our model on the entire dataset:"
      ]
    },
    {
      "cell_type": "code",
      "execution_count": 21,
      "metadata": {
        "id": "BPhezdmQurHQ",
        "colab": {
          "base_uri": "https://localhost:8080/"
        },
        "outputId": "7834a1a0-83f3-47f9-ff20-713a716d56cf"
      },
      "outputs": [
        {
          "output_type": "stream",
          "name": "stderr",
          "text": [
            "<ipython-input-13-b92d47e5e26a>:32: RuntimeWarning: overflow encountered in exp\n",
            "  return 1 / (1 + np.exp(-z))\n"
          ]
        }
      ],
      "source": [
        "Y_pred_bin = nn_bin.predict(X_test_bin)\n",
        "Y_pred_bin=Y_pred_bin.flatten()"
      ]
    },
    {
      "cell_type": "markdown",
      "metadata": {
        "id": "z6km6votvImL"
      },
      "source": [
        "##Checking the accuracy:\n",
        "You can write a simple code manually to calculate the accuracy of model by counting the number of correct predictions. However there are tools available to make it easier."
      ]
    },
    {
      "cell_type": "code",
      "execution_count": 44,
      "metadata": {
        "id": "P94_7ggVvdU9",
        "colab": {
          "base_uri": "https://localhost:8080/"
        },
        "outputId": "5ec0d291-58e2-420f-8150-40e0d34bf067"
      },
      "outputs": [
        {
          "output_type": "stream",
          "name": "stdout",
          "text": [
            "Model accuracy = 52.58 %\n"
          ]
        }
      ],
      "source": [
        "\n",
        "accuracy= (Y_pred_bin == Y_test_bin).mean()\n",
        "print(\"Model accuracy =\", round(accuracy*100,2),\"%\")"
      ]
    },
    {
      "cell_type": "markdown",
      "source": [
        "##Checking with the SSIG functions instead of SReLU functions"
      ],
      "metadata": {
        "id": "ZspJRA_eTj_M"
      }
    },
    {
      "cell_type": "code",
      "source": [
        "#D_in is input dimension\n",
        "#H1 is dimension of first hidden layer\n",
        "#H2 is dimension of second hidden layer\n",
        "#D_out is output dimension.\n",
        "\n",
        "D_in, H1, H2, D_out = 784, 200, 100, 1 #You can add more layers or more outputs if you wish.\n",
        "\n",
        "neurons = [D_in, H1, H2, D_out] # list of number of neurons in the layers sequentially.\n",
        "activation_functions = ['SSIG','SSIG','sigmoid'] # activations in each layer (Note: the input layer does not have any activation)\n",
        "nn_bin = Neural_Network(neurons, activation_functions) # There we go, creating our neural network."
      ],
      "metadata": {
        "id": "BU2MVvzTTxIa"
      },
      "execution_count": 45,
      "outputs": []
    },
    {
      "cell_type": "markdown",
      "source": [
        "##Training the model"
      ],
      "metadata": {
        "id": "tnzYmNLZT4u6"
      }
    },
    {
      "cell_type": "code",
      "source": [
        "losses = nn_bin.train(X_train_bin, Y_train_bin, batch_size=10, lr=1e-2, max_epochs=100, Xval = X_val_bin, Yval = Y_val_bin, verbose= True)"
      ],
      "metadata": {
        "colab": {
          "base_uri": "https://localhost:8080/",
          "height": 847
        },
        "id": "s2gRYBY6T9JK",
        "outputId": "5e4ea86a-b1c5-4b29-86a4-d397f4325856"
      },
      "execution_count": 46,
      "outputs": [
        {
          "output_type": "stream",
          "name": "stdout",
          "text": [
            "Epoch 5..............Loss on train = 0.016609022471627696, Loss on val = 0.021218129584283592\n",
            "Epoch 10..............Loss on train = 0.009305480593751105, Loss on val = 0.013772838210117365\n",
            "Epoch 15..............Loss on train = 0.007084270602219327, Loss on val = 0.01163504829465471\n",
            "Epoch 20..............Loss on train = 0.0059835351723276356, Loss on val = 0.009829368551554009\n",
            "Epoch 25..............Loss on train = 0.005179115524640122, Loss on val = 0.00917697349667625\n",
            "Epoch 30..............Loss on train = 0.004505953325303171, Loss on val = 0.008546070297599125\n",
            "Epoch 35..............Loss on train = 0.00420146501396685, Loss on val = 0.007954069570795598\n",
            "Epoch 40..............Loss on train = 0.003878683978446288, Loss on val = 0.007588947180961321\n",
            "Epoch 45..............Loss on train = 0.0035336213127760314, Loss on val = 0.00721048951500496\n",
            "Epoch 50..............Loss on train = 0.00332857691425509, Loss on val = 0.00696858021733053\n",
            "Epoch 55..............Loss on train = 0.0031243206635548086, Loss on val = 0.0066851754099309406\n",
            "Epoch 60..............Loss on train = 0.0029753484215254726, Loss on val = 0.006470436737713446\n",
            "Epoch 65..............Loss on train = 0.0028258035749343805, Loss on val = 0.006260920369025374\n",
            "Epoch 70..............Loss on train = 0.002688584877795074, Loss on val = 0.006028895570847418\n",
            "Epoch 75..............Loss on train = 0.0026073257442062714, Loss on val = 0.005756565857448213\n",
            "Epoch 80..............Loss on train = 0.0024446267945396954, Loss on val = 0.005509533094652744\n",
            "Epoch 85..............Loss on train = 0.0023300897088624956, Loss on val = 0.005455592368137166\n",
            "Epoch 90..............Loss on train = 0.0022780561995546207, Loss on val = 0.005362232260053888\n",
            "Epoch 95..............Loss on train = 0.0021743063158950623, Loss on val = 0.0052716007789522235\n",
            "Epoch 100..............Loss on train = 0.0021164148638503984, Loss on val = 0.0051786288338762886\n",
            "Reached Epoch Cap without convergence....Terminating\n"
          ]
        },
        {
          "output_type": "display_data",
          "data": {
            "text/plain": [
              "<Figure size 640x480 with 1 Axes>"
            ],
            "image/png": "[encoded data removed]"
          },
          "metadata": {}
        }
      ]
    },
    {
      "cell_type": "markdown",
      "source": [
        "The models on training with the SSIG activation function did not show any vanishing or exploding behaviour"
      ],
      "metadata": {
        "id": "D5xat3d6VLDu"
      }
    },
    {
      "cell_type": "markdown",
      "source": [
        "##Checking the accuracy:"
      ],
      "metadata": {
        "id": "EZPDSsduVw64"
      }
    },
    {
      "cell_type": "code",
      "source": [
        "Y_pred_bin = nn_bin.predict(X_test_bin)\n",
        "Y_pred_bin=Y_pred_bin.flatten()\n",
        "accuracy= (Y_pred_bin == Y_test_bin).mean()\n",
        "print(\"Model accuracy =\", round(accuracy*100,2),\"%\")"
      ],
      "metadata": {
        "colab": {
          "base_uri": "https://localhost:8080/"
        },
        "id": "O_eoXWaQV8ly",
        "outputId": "2acf1d4c-4796-41e7-ed5c-1290fe52f013"
      },
      "execution_count": 47,
      "outputs": [
        {
          "output_type": "stream",
          "name": "stdout",
          "text": [
            "Model accuracy = 98.68 %\n"
          ]
        }
      ]
    },
    {
      "cell_type": "markdown",
      "metadata": {
        "id": "WLy5ZHxPZr1f"
      },
      "source": [
        "##Confusion Matrix:\n"
      ]
    },
    {
      "cell_type": "code",
      "execution_count": 19,
      "metadata": {
        "id": "lHmC7pxla69v",
        "colab": {
          "base_uri": "https://localhost:8080/",
          "height": 449
        },
        "outputId": "6754faa0-748e-49ab-e543-cfdd0751b37f"
      },
      "outputs": [
        {
          "output_type": "display_data",
          "data": {
            "text/plain": [
              "<Figure size 640x480 with 2 Axes>"
            ],
            "image/png": "[encoded data removed]"
          },
          "metadata": {}
        }
      ],
      "source": [
        "from sklearn.metrics import confusion_matrix, ConfusionMatrixDisplay\n",
        "\n",
        "matrix_bin = confusion_matrix(Y_test_bin, Y_pred_bin)\n",
        "ConfusionMatrixDisplay(matrix_bin, display_labels=[0,1]).plot(cmap=\"Blues\", values_format='')\n",
        "plt.show()"
      ]
    },
    {
      "cell_type": "markdown",
      "source": [
        "##Using a linear activation function at the output layer and SReLU for other layers:"
      ],
      "metadata": {
        "id": "SF4vDfycWhMC"
      }
    },
    {
      "cell_type": "code",
      "source": [
        "D_in, H1, H2, D_out = 784, 200, 100, 1 #You can add more layers or more outputs if you wish.\n",
        "\n",
        "neurons = [D_in, H1, H2, D_out] # list of number of neurons in the layers sequentially.\n",
        "activation_functions = ['SRELU','SRELU','linear'] # activations in each layer (Note: the input layer does not have any activation)\n",
        "nn_bin = Neural_Network(neurons, activation_functions) # There we go, creating our neural network.\n"
      ],
      "metadata": {
        "id": "O7XTx5dlWul1"
      },
      "execution_count": 55,
      "outputs": []
    },
    {
      "cell_type": "code",
      "source": [
        "losses = nn_bin.train(X_train_bin, Y_train_bin, batch_size=10, lr=1e-2, max_epochs=100, Xval = X_val_bin, Yval = Y_val_bin, verbose= True)"
      ],
      "metadata": {
        "colab": {
          "base_uri": "https://localhost:8080/",
          "height": 579
        },
        "id": "9GrVsT5DXMgc",
        "outputId": "99709f83-85f3-4d68-fc5c-6d3cee038dc2"
      },
      "execution_count": 56,
      "outputs": [
        {
          "output_type": "stream",
          "name": "stderr",
          "text": [
            "<ipython-input-54-5a88abcf3590>:48: RuntimeWarning: overflow encountered in square\n",
            "  return z*((np.exp(z)+1)**2-1)/((np.exp(z)+1)**2+1)\n",
            "<ipython-input-54-5a88abcf3590>:48: RuntimeWarning: invalid value encountered in divide\n",
            "  return z*((np.exp(z)+1)**2-1)/((np.exp(z)+1)**2+1)\n"
          ]
        },
        {
          "output_type": "stream",
          "name": "stdout",
          "text": [
            "Epoch 5..............Loss on train = nan, Loss on val = nan\n",
            "Early Stopping .............. Returning best weights\n"
          ]
        },
        {
          "output_type": "display_data",
          "data": {
            "text/plain": [
              "<Figure size 640x480 with 1 Axes>"
            ],
            "image/png": "[encoded data removed]"
          },
          "metadata": {}
        }
      ]
    },
    {
      "cell_type": "markdown",
      "source": [
        "We again encounter the exploding problem even with the linear activation at the end"
      ],
      "metadata": {
        "id": "XH65g42rYA2O"
      }
    },
    {
      "cell_type": "markdown",
      "source": [
        "##Using a linear activation function at the output layer and SSIG for other layers:"
      ],
      "metadata": {
        "id": "0mBA9SgeYTFH"
      }
    },
    {
      "cell_type": "code",
      "source": [
        "D_in, H1, H2, D_out = 784, 200, 100, 1 #You can add more layers or more outputs if you wish.\n",
        "\n",
        "neurons = [D_in, H1, H2, D_out] # list of number of neurons in the layers sequentially.\n",
        "activation_functions = ['SSIG','SSIG','linear'] # activations in each layer (Note: the input layer does not have any activation)\n",
        "nn_bin = Neural_Network(neurons, activation_functions) # There we go, creating our neural network.\n",
        "losses = nn_bin.train(X_train_bin, Y_train_bin, batch_size=10, lr=1e-2, max_epochs=100, Xval = X_val_bin, Yval = Y_val_bin, verbose= True)"
      ],
      "metadata": {
        "colab": {
          "base_uri": "https://localhost:8080/",
          "height": 633
        },
        "id": "M_fXdKjxYaVq",
        "outputId": "fa2e3fd1-088c-4e76-9781-f4a0af202eac"
      },
      "execution_count": 57,
      "outputs": [
        {
          "output_type": "stream",
          "name": "stdout",
          "text": [
            "Epoch 5..............Loss on train = 0.01937629637521647, Loss on val = 0.022117888342412902\n",
            "Epoch 10..............Loss on train = 0.011445559540830715, Loss on val = 0.014046616158961816\n",
            "Epoch 15..............Loss on train = 0.009657588096865004, Loss on val = 0.012234304641205111\n",
            "Epoch 20..............Loss on train = 0.009399507097385204, Loss on val = 0.011851848494130972\n",
            "Epoch 25..............Loss on train = 0.008373962074719172, Loss on val = 0.010579030604670272\n",
            "Epoch 30..............Loss on train = 0.008379428673066723, Loss on val = 0.010756828018603433\n",
            "Epoch 35..............Loss on train = 0.007443743819658688, Loss on val = 0.009892513390832908\n",
            "Epoch 40..............Loss on train = 0.007603894361037697, Loss on val = 0.00996995034579163\n",
            "Early Stopping .............. Returning best weights\n"
          ]
        },
        {
          "output_type": "display_data",
          "data": {
            "text/plain": [
              "<Figure size 640x480 with 1 Axes>"
            ],
            "image/png": "[encoded data removed]"
          },
          "metadata": {}
        }
      ]
    },
    {
      "cell_type": "markdown",
      "source": [
        "The model with SSIG activations for the internal layers and Linear activation at the output perform better than the model with the Logistic Sigmoid at the output"
      ],
      "metadata": {
        "id": "-AQrRW1KZzp2"
      }
    }
  ],
  "metadata": {
    "colab": {
      "provenance": []
    },
    "interpreter": {
      "hash": "b3ba2566441a7c06988d0923437866b63cedc61552a5af99d1f4fb67d367b25f"
    },
    "kernelspec": {
      "display_name": "Python 3.7.6 64-bit ('base': conda)",
      "name": "python3"
    },
    "language_info": {
      "codemirror_mode": {
        "name": "ipython",
        "version": 3
      },
      "file_extension": ".py",
      "mimetype": "text/x-python",
      "name": "python",
      "nbconvert_exporter": "python",
      "pygments_lexer": "ipython3",
      "version": "3.7.6"
    }
  },
  "nbformat": 4,
  "nbformat_minor": 0
}